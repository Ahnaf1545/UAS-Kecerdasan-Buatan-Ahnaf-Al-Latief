{
  "metadata": {
    "kernelspec": {
      "name": "python",
      "display_name": "Python (Pyodide)",
      "language": "python"
    },
    "language_info": {
      "codemirror_mode": {
        "name": "python",
        "version": 3
      },
      "file_extension": ".py",
      "mimetype": "text/x-python",
      "name": "python",
      "nbconvert_exporter": "python",
      "pygments_lexer": "ipython3",
      "version": "3.8"
    }
  },
  "nbformat_minor": 4,
  "nbformat": 4,
  "cells": [
    {
      "cell_type": "markdown",
      "source": "# Implementasi Kecerdasan Buatan dengan Python\n\nNotebook ini menunjukkan contoh implementasi kecerdasan buatan menggunakan Python. Kita akan menggunakan dataset iris dan model K-Nearest Neighbors (KNN) untuk melakukan klasifikasi.\n\n## Langkah-langkah:\n\n1. **Memuat library yang diperlukan**: Kita akan menggunakan `numpy` dan `scikit-learn`.\n2. **Memuat dataset iris**: Dataset iris merupakan dataset yang sering digunakan dalam contoh machine learning.\n3. **Membagi dataset**: Dataset akan dibagi menjadi training set dan testing set.\n4. **Menginisialisasi model KNN**: Kita akan menggunakan K-Nearest Neighbors classifier.\n5. **Melatih model**: Model akan dilatih menggunakan training data.\n6. **Memprediksi label**: Model akan memprediksi label untuk testing data.\n7. **Menghitung akurasi model**: Kita akan menghitung akurasi model dengan membandingkan label prediksi dan label sebenarnya.\n",
      "metadata": {}
    },
    {
      "cell_type": "code",
      "source": "# Import necessary libraries\nimport numpy as np\nfrom sklearn.datasets import load_iris\nfrom sklearn.model_selection import train_test_split\nfrom sklearn.neighbors import KNeighborsClassifier\nfrom sklearn.metrics import accuracy_score\n\n# Load the iris dataset\niris = load_iris()\nX = iris.data\ny = iris.target\n\n# Split the dataset into training and testing sets\nX_train, X_test, y_train, y_test = train_test_split(X, y, test_size=0.3, random_state=42)\n\n# Initialize the K-Nearest Neighbors classifier\nknn = KNeighborsClassifier(n_neighbors=3)\n\n# Fit the model to the training data\nknn.fit(X_train, y_train)\n\n# Predict the labels for the test data\ny_pred = knn.predict(X_test)\n\n# Calculate the accuracy of the model\naccuracy = accuracy_score(y_test, y_pred)\nprint(f\"Model accuracy: {accuracy * 100:.2f}%\")\n",
      "metadata": {
        "trusted": true
      },
      "outputs": [],
      "execution_count": null
    }
  ]
}